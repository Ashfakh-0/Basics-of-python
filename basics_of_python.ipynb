{
  "nbformat": 4,
  "nbformat_minor": 0,
  "metadata": {
    "colab": {
      "provenance": []
    },
    "kernelspec": {
      "name": "python3",
      "display_name": "Python 3"
    },
    "language_info": {
      "name": "python"
    }
  },
  "cells": [
    {
      "cell_type": "code",
      "execution_count": 4,
      "metadata": {
        "colab": {
          "base_uri": "https://localhost:8080/"
        },
        "id": "TLJvtNlOHk3a",
        "outputId": "931c426b-e3aa-43e4-8ecf-cb54c877a5c0"
      },
      "outputs": [
        {
          "output_type": "stream",
          "name": "stdout",
          "text": [
            "enter a number:33\n",
            "33 :is not a prime number\n"
          ]
        }
      ],
      "source": [
        "#recieving an input from user and checking whether it's prime or not\n",
        "num=int (input(\"enter a number:\"))\n",
        "if num>1:\n",
        "  for i in range(2,num//2+1):\n",
        "    if num%i==0:\n",
        "      print(num,\":is not a prime number\")\n",
        "      break\n",
        "  else:\n",
        "    print(num,\":is a prime number\")\n"
      ]
    },
    {
      "cell_type": "code",
      "source": [
        "#excercise-2----generating random number and receiving product of these rand.num..and checking whether it's true or false"
      ],
      "metadata": {
        "id": "umnhgIhNZ3KQ"
      },
      "execution_count": 5,
      "outputs": []
    },
    {
      "cell_type": "code",
      "source": [
        "import random #importing library\n",
        "num1=random.randint(1,10)\n",
        "num2=random.randint(1,10)\n",
        "print(\"random number1=\",num1)\n",
        "print(\"random number2=\",num2)\n",
        "product=num1*num2\n",
        "answer=int (input(\"enter the product of these random number:\"))\n",
        "if answer==product:\n",
        "  print(\"Excellent!!🤸‍♀️ the answer is correct\")\n",
        "else:\n",
        "  print(\"Fool!!🤦‍♂️ the answer is incorrect\")"
      ],
      "metadata": {
        "colab": {
          "base_uri": "https://localhost:8080/"
        },
        "id": "ScM1YKbtaVni",
        "outputId": "9a2fc83a-9d4b-4416-ce79-9e0e06881f06"
      },
      "execution_count": 7,
      "outputs": [
        {
          "output_type": "stream",
          "name": "stdout",
          "text": [
            "random number1= 7\n",
            "random number2= 5\n",
            "enter the product of these random number:35\n",
            "Excellent!!🤸‍♀️ the answer is correct\n"
          ]
        }
      ]
    },
    {
      "cell_type": "code",
      "source": [
        "#exercis-3---squares of even or odd number"
      ],
      "metadata": {
        "id": "p1hgfnZreIng"
      },
      "execution_count": 8,
      "outputs": []
    },
    {
      "cell_type": "code",
      "source": [
        "#printing squares of even number\n",
        "for i in range(100,201):\n",
        "  if i%2==0:\n",
        "    square=i**2\n",
        "    print(i,\"square is:\",square)"
      ],
      "metadata": {
        "colab": {
          "base_uri": "https://localhost:8080/"
        },
        "id": "nUN_J0_cgaMH",
        "outputId": "c46929af-fbd7-4a53-d4c8-d13d9a4d8471"
      },
      "execution_count": 9,
      "outputs": [
        {
          "output_type": "stream",
          "name": "stdout",
          "text": [
            "100 square is: 10000\n",
            "102 square is: 10404\n",
            "104 square is: 10816\n",
            "106 square is: 11236\n",
            "108 square is: 11664\n",
            "110 square is: 12100\n",
            "112 square is: 12544\n",
            "114 square is: 12996\n",
            "116 square is: 13456\n",
            "118 square is: 13924\n",
            "120 square is: 14400\n",
            "122 square is: 14884\n",
            "124 square is: 15376\n",
            "126 square is: 15876\n",
            "128 square is: 16384\n",
            "130 square is: 16900\n",
            "132 square is: 17424\n",
            "134 square is: 17956\n",
            "136 square is: 18496\n",
            "138 square is: 19044\n",
            "140 square is: 19600\n",
            "142 square is: 20164\n",
            "144 square is: 20736\n",
            "146 square is: 21316\n",
            "148 square is: 21904\n",
            "150 square is: 22500\n",
            "152 square is: 23104\n",
            "154 square is: 23716\n",
            "156 square is: 24336\n",
            "158 square is: 24964\n",
            "160 square is: 25600\n",
            "162 square is: 26244\n",
            "164 square is: 26896\n",
            "166 square is: 27556\n",
            "168 square is: 28224\n",
            "170 square is: 28900\n",
            "172 square is: 29584\n",
            "174 square is: 30276\n",
            "176 square is: 30976\n",
            "178 square is: 31684\n",
            "180 square is: 32400\n",
            "182 square is: 33124\n",
            "184 square is: 33856\n",
            "186 square is: 34596\n",
            "188 square is: 35344\n",
            "190 square is: 36100\n",
            "192 square is: 36864\n",
            "194 square is: 37636\n",
            "196 square is: 38416\n",
            "198 square is: 39204\n",
            "200 square is: 40000\n"
          ]
        }
      ]
    },
    {
      "cell_type": "code",
      "source": [
        "#printing square of odd number\n",
        "for i in range(100,201):\n",
        "  if i%2!=0:\n",
        "    print(i,\"square is:\",i**2)"
      ],
      "metadata": {
        "colab": {
          "base_uri": "https://localhost:8080/"
        },
        "id": "eyJV23JvhrcA",
        "outputId": "02f07599-1127-4f0e-e5e0-208e4eba4ad9"
      },
      "execution_count": 10,
      "outputs": [
        {
          "output_type": "stream",
          "name": "stdout",
          "text": [
            "101 square is: 10201\n",
            "103 square is: 10609\n",
            "105 square is: 11025\n",
            "107 square is: 11449\n",
            "109 square is: 11881\n",
            "111 square is: 12321\n",
            "113 square is: 12769\n",
            "115 square is: 13225\n",
            "117 square is: 13689\n",
            "119 square is: 14161\n",
            "121 square is: 14641\n",
            "123 square is: 15129\n",
            "125 square is: 15625\n",
            "127 square is: 16129\n",
            "129 square is: 16641\n",
            "131 square is: 17161\n",
            "133 square is: 17689\n",
            "135 square is: 18225\n",
            "137 square is: 18769\n",
            "139 square is: 19321\n",
            "141 square is: 19881\n",
            "143 square is: 20449\n",
            "145 square is: 21025\n",
            "147 square is: 21609\n",
            "149 square is: 22201\n",
            "151 square is: 22801\n",
            "153 square is: 23409\n",
            "155 square is: 24025\n",
            "157 square is: 24649\n",
            "159 square is: 25281\n",
            "161 square is: 25921\n",
            "163 square is: 26569\n",
            "165 square is: 27225\n",
            "167 square is: 27889\n",
            "169 square is: 28561\n",
            "171 square is: 29241\n",
            "173 square is: 29929\n",
            "175 square is: 30625\n",
            "177 square is: 31329\n",
            "179 square is: 32041\n",
            "181 square is: 32761\n",
            "183 square is: 33489\n",
            "185 square is: 34225\n",
            "187 square is: 34969\n",
            "189 square is: 35721\n",
            "191 square is: 36481\n",
            "193 square is: 37249\n",
            "195 square is: 38025\n",
            "197 square is: 38809\n",
            "199 square is: 39601\n"
          ]
        }
      ]
    },
    {
      "cell_type": "code",
      "source": [
        "#exercise-4---hospital billing sysytem"
      ],
      "metadata": {
        "id": "qrKje24LJEnA"
      },
      "execution_count": 11,
      "outputs": []
    },
    {
      "cell_type": "code",
      "source": [
        "charges={\"room_per_day\":2000,\"dr_con_fee\":1500,\"lab_test_charge\":300} #storing data about charges in a dictionary\n",
        "patient={\"days_stayed\":4,\"lab_test\":3,\"medicine_charge\":2400}# storing data about patient"
      ],
      "metadata": {
        "id": "Y3YhNlxDMrtB"
      },
      "execution_count": 12,
      "outputs": []
    },
    {
      "cell_type": "code",
      "source": [
        "#calculation\n",
        "room_rent=charges[\"room_per_day\"]*patient[\"days_stayed\"]\n",
        "consultation_fee=charges[\"dr_con_fee\"]\n",
        "lab_test_charge=charges[\"lab_test_charge\"]*patient[\"lab_test\"]\n",
        "medicine_cost=patient[\"medicine_charge\"]\n",
        "total_bill=room_rent+consultation_fee+lab_test_charge+medicine_cost\n"
      ],
      "metadata": {
        "id": "L1PC-vvWSCYF"
      },
      "execution_count": 13,
      "outputs": []
    },
    {
      "cell_type": "code",
      "source": [
        "total_bill"
      ],
      "metadata": {
        "colab": {
          "base_uri": "https://localhost:8080/"
        },
        "id": "pzoYDWeYV5zV",
        "outputId": "b28d441d-804a-4ba3-e38d-ded56ab2bc99"
      },
      "execution_count": 14,
      "outputs": [
        {
          "output_type": "execute_result",
          "data": {
            "text/plain": [
              "12800"
            ]
          },
          "metadata": {},
          "execution_count": 14
        }
      ]
    },
    {
      "cell_type": "code",
      "source": [
        "#the total bill is 12800(>10000), so applying 10% discount"
      ],
      "metadata": {
        "id": "kvOW90OkW-Ny"
      },
      "execution_count": 17,
      "outputs": []
    },
    {
      "cell_type": "code",
      "source": [
        "if total_bill >10000:\n",
        "  discount=total_bill*0.11\n",
        "else:\n",
        "  discount=0"
      ],
      "metadata": {
        "id": "gnlbt9qEXLl-"
      },
      "execution_count": 18,
      "outputs": []
    },
    {
      "cell_type": "code",
      "source": [
        "total_bill_after_discount=total_bill-discount"
      ],
      "metadata": {
        "id": "xZoFWWy2XwYE"
      },
      "execution_count": 19,
      "outputs": []
    },
    {
      "cell_type": "code",
      "source": [
        "total_bill_after_discount"
      ],
      "metadata": {
        "colab": {
          "base_uri": "https://localhost:8080/"
        },
        "id": "ZIgsboMFX2UY",
        "outputId": "86354775-305c-4113-c930-d9325b716d1d"
      },
      "execution_count": 20,
      "outputs": [
        {
          "output_type": "execute_result",
          "data": {
            "text/plain": [
              "11392.0"
            ]
          },
          "metadata": {},
          "execution_count": 20
        }
      ]
    },
    {
      "cell_type": "code",
      "source": [
        "#printing the results\n",
        "print(\"total bil before discount:\",total_bill)\n",
        "print(\"discount(10%):\",discount)\n",
        "print(\"total bill after discount:\",total_bill_after_discount)"
      ],
      "metadata": {
        "colab": {
          "base_uri": "https://localhost:8080/"
        },
        "id": "rOMjRywYX47d",
        "outputId": "d5190289-1c25-4a7b-b0a6-e8e7af3aab2c"
      },
      "execution_count": 22,
      "outputs": [
        {
          "output_type": "stream",
          "name": "stdout",
          "text": [
            "total bil before discount: 12800\n",
            "discount(10%): 1408.0\n",
            "total bill after discount: 11392.0\n"
          ]
        }
      ]
    },
    {
      "cell_type": "code",
      "source": [],
      "metadata": {
        "id": "iblB-_NlYEsX"
      },
      "execution_count": null,
      "outputs": []
    }
  ]
}